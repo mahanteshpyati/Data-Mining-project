{
 "cells": [
  {
   "cell_type": "markdown",
   "metadata": {},
   "source": [
    "## emi music data set"
   ]
  },
  {
   "cell_type": "markdown",
   "metadata": {},
   "source": [
    "## predict how much user will like a new song"
   ]
  },
  {
   "cell_type": "code",
   "execution_count": 1,
   "metadata": {},
   "outputs": [
    {
     "name": "stdout",
     "output_type": "stream",
     "text": [
      "Populating the interactive namespace from numpy and matplotlib\n"
     ]
    },
    {
     "name": "stderr",
     "output_type": "stream",
     "text": [
      "/home/mahantesh/anaconda3/lib/python3.6/site-packages/sklearn/cross_validation.py:44: DeprecationWarning: This module was deprecated in version 0.18 in favor of the model_selection module into which all the refactored classes and functions are moved. Also note that the interface of the new CV iterators are different from that of this module. This module will be removed in 0.20.\n",
      "  \"This module will be removed in 0.20.\", DeprecationWarning)\n"
     ]
    }
   ],
   "source": [
    "import numpy as np\n",
    "import pandas as pd\n",
    "import matplotlib.pyplot as plt\n",
    "import seaborn as sns\n",
    "%pylab inline\n",
    "\n",
    "from sklearn.preprocessing import LabelEncoder\n",
    "from sklearn.cross_validation import train_test_split, KFold, cross_val_score\n",
    "from sklearn.metrics import mean_squared_error, make_scorer\n",
    "from sklearn.ensemble import RandomForestRegressor\n",
    "from sklearn.pipeline import Pipeline\n",
    "from sklearn.feature_selection import SelectKBest, f_regression\n",
    "import xgboost as xgb\n",
    "\n",
    "np.random.seed(221)"
   ]
  },
  {
   "cell_type": "code",
   "execution_count": 2,
   "metadata": {},
   "outputs": [
    {
     "name": "stdout",
     "output_type": "stream",
     "text": [
      "Reading Data....\n",
      "Reading Data Completed\n"
     ]
    }
   ],
   "source": [
    "# load files\n",
    "print(\"Reading Data....\")\n",
    "train = pd.read_csv(\"train.csv\")\n",
    "test = pd.read_csv(\"test.csv\")\n",
    "users = pd.read_csv(\"users.csv\")\n",
    "words =pd.read_csv(\"words.csv\", encoding='ISO-8859-1')\n",
    "print (\"Reading Data Completed\")"
   ]
  },
  {
   "cell_type": "code",
   "execution_count": 3,
   "metadata": {
    "collapsed": true
   },
   "outputs": [],
   "source": [
    "def get_missing_value_features(df):\n",
    "    missing_val_df = df.isnull().any()\n",
    "    return list(missing_val_df[missing_val_df == True].index)"
   ]
  },
  {
   "cell_type": "code",
   "execution_count": 4,
   "metadata": {
    "collapsed": true
   },
   "outputs": [],
   "source": [
    "# fill missin values\n",
    "words = words.fillna(-999)"
   ]
  },
  {
   "cell_type": "code",
   "execution_count": 5,
   "metadata": {
    "collapsed": true
   },
   "outputs": [],
   "source": [
    "def prepare_count_features(df):\n",
    "    features = ['HEARD_OF', 'OWN_ARTIST_MUSIC']\n",
    "    \n",
    "    for feature in features:\n",
    "        df[feature] = df[feature].fillna('')\n",
    "        feature_dict = df[feature].value_counts().to_dict()\n",
    "        df[feature] = df[feature].map(lambda x: feature_dict[x])\n",
    "    \n",
    "    return df\n",
    "\n",
    "words = prepare_count_features(words)"
   ]
  },
  {
   "cell_type": "markdown",
   "metadata": {},
   "source": [
    "### User Features"
   ]
  },
  {
   "cell_type": "code",
   "execution_count": 6,
   "metadata": {},
   "outputs": [
    {
     "name": "stdout",
     "output_type": "stream",
     "text": [
      "Features with missing values  ['AGE', 'WORKING', 'REGION', 'LIST_OWN', 'LIST_BACK', 'Q16', 'Q18', 'Q19']\n"
     ]
    }
   ],
   "source": [
    "# Which of the following features have missing value ?\n",
    "features_with_missing_values = get_missing_value_features(users)\n",
    "print('Features with missing values ', features_with_missing_values)"
   ]
  },
  {
   "cell_type": "code",
   "execution_count": 7,
   "metadata": {
    "collapsed": true
   },
   "outputs": [],
   "source": [
    "def fill_missing_values(df, missing_features):\n",
    "    for feature in missing_features:\n",
    "        if feature in ['AGE', 'Q16', 'Q18', 'Q19']:\n",
    "            df[feature] = df[feature].fillna(-999) # to denote that this is a missing value\n",
    "        else:\n",
    "            df[feature] = df[feature].fillna('') # empty string to denote missing value for categorical feature.\n",
    "    \n",
    "    return df\n",
    "\n",
    "users = fill_missing_values(users, features_with_missing_values)"
   ]
  },
  {
   "cell_type": "code",
   "execution_count": 8,
   "metadata": {
    "collapsed": true
   },
   "outputs": [],
   "source": [
    "def parse_music_pref(df, feature_name):\n",
    "    return df[feature_name].str.findall(r'\\d+').map(lambda x: 0 if len(x) == 0 else x[0])\n",
    "\n",
    "users['LIST_OWN'] = parse_music_pref(users, 'LIST_OWN')\n",
    "users['LIST_BACK'] = parse_music_pref(users, 'LIST_BACK')"
   ]
  },
  {
   "cell_type": "code",
   "execution_count": 9,
   "metadata": {
    "collapsed": true
   },
   "outputs": [],
   "source": [
    "def encode_features(df, feature_names):\n",
    "    for feature in feature_names:\n",
    "        lbl = LabelEncoder()\n",
    "        lbl.fit(df[feature])\n",
    "        \n",
    "        df[feature] = lbl.transform(df[feature])\n",
    "    \n",
    "    return df\n",
    "\n",
    "users = encode_features(users, ['GENDER', 'WORKING', 'REGION', 'MUSIC'])"
   ]
  },
  {
   "cell_type": "code",
   "execution_count": 10,
   "metadata": {},
   "outputs": [
    {
     "data": {
      "text/html": [
       "<div>\n",
       "<style>\n",
       "    .dataframe thead tr:only-child th {\n",
       "        text-align: right;\n",
       "    }\n",
       "\n",
       "    .dataframe thead th {\n",
       "        text-align: left;\n",
       "    }\n",
       "\n",
       "    .dataframe tbody tr th {\n",
       "        vertical-align: top;\n",
       "    }\n",
       "</style>\n",
       "<table border=\"1\" class=\"dataframe\">\n",
       "  <thead>\n",
       "    <tr style=\"text-align: right;\">\n",
       "      <th></th>\n",
       "      <th>RESPID</th>\n",
       "      <th>GENDER</th>\n",
       "      <th>AGE</th>\n",
       "      <th>WORKING</th>\n",
       "      <th>REGION</th>\n",
       "      <th>MUSIC</th>\n",
       "      <th>LIST_OWN</th>\n",
       "      <th>LIST_BACK</th>\n",
       "      <th>Q1</th>\n",
       "      <th>Q2</th>\n",
       "      <th>...</th>\n",
       "      <th>Q10</th>\n",
       "      <th>Q11</th>\n",
       "      <th>Q12</th>\n",
       "      <th>Q13</th>\n",
       "      <th>Q14</th>\n",
       "      <th>Q15</th>\n",
       "      <th>Q16</th>\n",
       "      <th>Q17</th>\n",
       "      <th>Q18</th>\n",
       "      <th>Q19</th>\n",
       "    </tr>\n",
       "  </thead>\n",
       "  <tbody>\n",
       "    <tr>\n",
       "      <th>0</th>\n",
       "      <td>36927</td>\n",
       "      <td>0</td>\n",
       "      <td>60.0</td>\n",
       "      <td>7</td>\n",
       "      <td>6</td>\n",
       "      <td>2</td>\n",
       "      <td>1</td>\n",
       "      <td>0</td>\n",
       "      <td>49.0</td>\n",
       "      <td>50.0</td>\n",
       "      <td>...</td>\n",
       "      <td>50.0</td>\n",
       "      <td>50.0</td>\n",
       "      <td>71.0</td>\n",
       "      <td>52.0</td>\n",
       "      <td>71.0</td>\n",
       "      <td>9.0</td>\n",
       "      <td>7.0</td>\n",
       "      <td>72.0</td>\n",
       "      <td>49.0</td>\n",
       "      <td>26.0</td>\n",
       "    </tr>\n",
       "    <tr>\n",
       "      <th>1</th>\n",
       "      <td>3566</td>\n",
       "      <td>0</td>\n",
       "      <td>36.0</td>\n",
       "      <td>4</td>\n",
       "      <td>6</td>\n",
       "      <td>2</td>\n",
       "      <td>1</td>\n",
       "      <td>1</td>\n",
       "      <td>55.0</td>\n",
       "      <td>55.0</td>\n",
       "      <td>...</td>\n",
       "      <td>12.0</td>\n",
       "      <td>65.0</td>\n",
       "      <td>65.0</td>\n",
       "      <td>80.0</td>\n",
       "      <td>79.0</td>\n",
       "      <td>51.0</td>\n",
       "      <td>31.0</td>\n",
       "      <td>68.0</td>\n",
       "      <td>54.0</td>\n",
       "      <td>33.0</td>\n",
       "    </tr>\n",
       "    <tr>\n",
       "      <th>2</th>\n",
       "      <td>20054</td>\n",
       "      <td>0</td>\n",
       "      <td>52.0</td>\n",
       "      <td>1</td>\n",
       "      <td>2</td>\n",
       "      <td>0</td>\n",
       "      <td>1</td>\n",
       "      <td>0</td>\n",
       "      <td>11.0</td>\n",
       "      <td>50.0</td>\n",
       "      <td>...</td>\n",
       "      <td>50.0</td>\n",
       "      <td>94.0</td>\n",
       "      <td>51.0</td>\n",
       "      <td>74.0</td>\n",
       "      <td>66.0</td>\n",
       "      <td>27.0</td>\n",
       "      <td>46.0</td>\n",
       "      <td>73.0</td>\n",
       "      <td>8.0</td>\n",
       "      <td>31.0</td>\n",
       "    </tr>\n",
       "    <tr>\n",
       "      <th>3</th>\n",
       "      <td>41749</td>\n",
       "      <td>0</td>\n",
       "      <td>40.0</td>\n",
       "      <td>2</td>\n",
       "      <td>6</td>\n",
       "      <td>5</td>\n",
       "      <td>2</td>\n",
       "      <td>3</td>\n",
       "      <td>81.0</td>\n",
       "      <td>80.0</td>\n",
       "      <td>...</td>\n",
       "      <td>76.0</td>\n",
       "      <td>74.0</td>\n",
       "      <td>64.0</td>\n",
       "      <td>73.0</td>\n",
       "      <td>85.0</td>\n",
       "      <td>61.0</td>\n",
       "      <td>77.0</td>\n",
       "      <td>76.0</td>\n",
       "      <td>78.0</td>\n",
       "      <td>88.0</td>\n",
       "    </tr>\n",
       "    <tr>\n",
       "      <th>4</th>\n",
       "      <td>23108</td>\n",
       "      <td>0</td>\n",
       "      <td>16.0</td>\n",
       "      <td>5</td>\n",
       "      <td>3</td>\n",
       "      <td>5</td>\n",
       "      <td>3</td>\n",
       "      <td>6</td>\n",
       "      <td>76.0</td>\n",
       "      <td>79.0</td>\n",
       "      <td>...</td>\n",
       "      <td>56.0</td>\n",
       "      <td>13.0</td>\n",
       "      <td>82.0</td>\n",
       "      <td>79.0</td>\n",
       "      <td>68.0</td>\n",
       "      <td>71.0</td>\n",
       "      <td>-999.0</td>\n",
       "      <td>86.0</td>\n",
       "      <td>80.0</td>\n",
       "      <td>32.0</td>\n",
       "    </tr>\n",
       "  </tbody>\n",
       "</table>\n",
       "<p>5 rows × 27 columns</p>\n",
       "</div>"
      ],
      "text/plain": [
       "   RESPID  GENDER   AGE  WORKING  REGION  MUSIC LIST_OWN LIST_BACK    Q1  \\\n",
       "0   36927       0  60.0        7       6      2        1         0  49.0   \n",
       "1    3566       0  36.0        4       6      2        1         1  55.0   \n",
       "2   20054       0  52.0        1       2      0        1         0  11.0   \n",
       "3   41749       0  40.0        2       6      5        2         3  81.0   \n",
       "4   23108       0  16.0        5       3      5        3         6  76.0   \n",
       "\n",
       "     Q2  ...    Q10   Q11   Q12   Q13   Q14   Q15    Q16   Q17   Q18   Q19  \n",
       "0  50.0  ...   50.0  50.0  71.0  52.0  71.0   9.0    7.0  72.0  49.0  26.0  \n",
       "1  55.0  ...   12.0  65.0  65.0  80.0  79.0  51.0   31.0  68.0  54.0  33.0  \n",
       "2  50.0  ...   50.0  94.0  51.0  74.0  66.0  27.0   46.0  73.0   8.0  31.0  \n",
       "3  80.0  ...   76.0  74.0  64.0  73.0  85.0  61.0   77.0  76.0  78.0  88.0  \n",
       "4  79.0  ...   56.0  13.0  82.0  79.0  68.0  71.0 -999.0  86.0  80.0  32.0  \n",
       "\n",
       "[5 rows x 27 columns]"
      ]
     },
     "execution_count": 10,
     "metadata": {},
     "output_type": "execute_result"
    }
   ],
   "source": [
    "users.head()"
   ]
  },
  {
   "cell_type": "code",
   "execution_count": 11,
   "metadata": {},
   "outputs": [
    {
     "data": {
      "text/html": [
       "<div>\n",
       "<style>\n",
       "    .dataframe thead tr:only-child th {\n",
       "        text-align: right;\n",
       "    }\n",
       "\n",
       "    .dataframe thead th {\n",
       "        text-align: left;\n",
       "    }\n",
       "\n",
       "    .dataframe tbody tr th {\n",
       "        vertical-align: top;\n",
       "    }\n",
       "</style>\n",
       "<table border=\"1\" class=\"dataframe\">\n",
       "  <thead>\n",
       "    <tr style=\"text-align: right;\">\n",
       "      <th></th>\n",
       "      <th>Artist</th>\n",
       "      <th>User</th>\n",
       "      <th>HEARD_OF</th>\n",
       "      <th>OWN_ARTIST_MUSIC</th>\n",
       "      <th>LIKE_ARTIST</th>\n",
       "      <th>Uninspired</th>\n",
       "      <th>Sophisticated</th>\n",
       "      <th>Aggressive</th>\n",
       "      <th>Edgy</th>\n",
       "      <th>Sociable</th>\n",
       "      <th>...</th>\n",
       "      <th>Unoriginal</th>\n",
       "      <th>Dated</th>\n",
       "      <th>Iconic</th>\n",
       "      <th>Unapproachable</th>\n",
       "      <th>Classic</th>\n",
       "      <th>Playful</th>\n",
       "      <th>Arrogant</th>\n",
       "      <th>Warm</th>\n",
       "      <th>Soulful</th>\n",
       "      <th>Unnamed: 87</th>\n",
       "    </tr>\n",
       "  </thead>\n",
       "  <tbody>\n",
       "    <tr>\n",
       "      <th>0</th>\n",
       "      <td>47</td>\n",
       "      <td>45969</td>\n",
       "      <td>22878</td>\n",
       "      <td>84794</td>\n",
       "      <td>-999.0</td>\n",
       "      <td>-999.0</td>\n",
       "      <td>0.0</td>\n",
       "      <td>-999.0</td>\n",
       "      <td>0</td>\n",
       "      <td>0.0</td>\n",
       "      <td>...</td>\n",
       "      <td>-999.0</td>\n",
       "      <td>0.0</td>\n",
       "      <td>-999.0</td>\n",
       "      <td>-999.0</td>\n",
       "      <td>0.0</td>\n",
       "      <td>-999.0</td>\n",
       "      <td>-999.0</td>\n",
       "      <td>0</td>\n",
       "      <td>0.0</td>\n",
       "      <td>-999.0</td>\n",
       "    </tr>\n",
       "    <tr>\n",
       "      <th>1</th>\n",
       "      <td>35</td>\n",
       "      <td>29118</td>\n",
       "      <td>61892</td>\n",
       "      <td>84794</td>\n",
       "      <td>-999.0</td>\n",
       "      <td>0.0</td>\n",
       "      <td>-999.0</td>\n",
       "      <td>0.0</td>\n",
       "      <td>0</td>\n",
       "      <td>-999.0</td>\n",
       "      <td>...</td>\n",
       "      <td>0.0</td>\n",
       "      <td>0.0</td>\n",
       "      <td>-999.0</td>\n",
       "      <td>0.0</td>\n",
       "      <td>0.0</td>\n",
       "      <td>0.0</td>\n",
       "      <td>0.0</td>\n",
       "      <td>0</td>\n",
       "      <td>-999.0</td>\n",
       "      <td>-999.0</td>\n",
       "    </tr>\n",
       "    <tr>\n",
       "      <th>2</th>\n",
       "      <td>14</td>\n",
       "      <td>31544</td>\n",
       "      <td>22878</td>\n",
       "      <td>84794</td>\n",
       "      <td>-999.0</td>\n",
       "      <td>0.0</td>\n",
       "      <td>-999.0</td>\n",
       "      <td>0.0</td>\n",
       "      <td>0</td>\n",
       "      <td>-999.0</td>\n",
       "      <td>...</td>\n",
       "      <td>0.0</td>\n",
       "      <td>0.0</td>\n",
       "      <td>-999.0</td>\n",
       "      <td>0.0</td>\n",
       "      <td>0.0</td>\n",
       "      <td>0.0</td>\n",
       "      <td>0.0</td>\n",
       "      <td>0</td>\n",
       "      <td>-999.0</td>\n",
       "      <td>-999.0</td>\n",
       "    </tr>\n",
       "    <tr>\n",
       "      <th>3</th>\n",
       "      <td>23</td>\n",
       "      <td>18085</td>\n",
       "      <td>61892</td>\n",
       "      <td>84794</td>\n",
       "      <td>-999.0</td>\n",
       "      <td>-999.0</td>\n",
       "      <td>-999.0</td>\n",
       "      <td>0.0</td>\n",
       "      <td>0</td>\n",
       "      <td>-999.0</td>\n",
       "      <td>...</td>\n",
       "      <td>0.0</td>\n",
       "      <td>0.0</td>\n",
       "      <td>-999.0</td>\n",
       "      <td>0.0</td>\n",
       "      <td>0.0</td>\n",
       "      <td>0.0</td>\n",
       "      <td>0.0</td>\n",
       "      <td>0</td>\n",
       "      <td>-999.0</td>\n",
       "      <td>-999.0</td>\n",
       "    </tr>\n",
       "    <tr>\n",
       "      <th>4</th>\n",
       "      <td>23</td>\n",
       "      <td>18084</td>\n",
       "      <td>61892</td>\n",
       "      <td>84794</td>\n",
       "      <td>-999.0</td>\n",
       "      <td>-999.0</td>\n",
       "      <td>-999.0</td>\n",
       "      <td>0.0</td>\n",
       "      <td>0</td>\n",
       "      <td>-999.0</td>\n",
       "      <td>...</td>\n",
       "      <td>0.0</td>\n",
       "      <td>0.0</td>\n",
       "      <td>-999.0</td>\n",
       "      <td>0.0</td>\n",
       "      <td>0.0</td>\n",
       "      <td>0.0</td>\n",
       "      <td>0.0</td>\n",
       "      <td>0</td>\n",
       "      <td>-999.0</td>\n",
       "      <td>-999.0</td>\n",
       "    </tr>\n",
       "  </tbody>\n",
       "</table>\n",
       "<p>5 rows × 88 columns</p>\n",
       "</div>"
      ],
      "text/plain": [
       "   Artist   User  HEARD_OF  OWN_ARTIST_MUSIC  LIKE_ARTIST  Uninspired  \\\n",
       "0      47  45969     22878             84794       -999.0      -999.0   \n",
       "1      35  29118     61892             84794       -999.0         0.0   \n",
       "2      14  31544     22878             84794       -999.0         0.0   \n",
       "3      23  18085     61892             84794       -999.0      -999.0   \n",
       "4      23  18084     61892             84794       -999.0      -999.0   \n",
       "\n",
       "   Sophisticated  Aggressive  Edgy  Sociable     ...       Unoriginal  Dated  \\\n",
       "0            0.0      -999.0     0       0.0     ...           -999.0    0.0   \n",
       "1         -999.0         0.0     0    -999.0     ...              0.0    0.0   \n",
       "2         -999.0         0.0     0    -999.0     ...              0.0    0.0   \n",
       "3         -999.0         0.0     0    -999.0     ...              0.0    0.0   \n",
       "4         -999.0         0.0     0    -999.0     ...              0.0    0.0   \n",
       "\n",
       "   Iconic  Unapproachable  Classic  Playful  Arrogant  Warm  Soulful  \\\n",
       "0  -999.0          -999.0      0.0   -999.0    -999.0     0      0.0   \n",
       "1  -999.0             0.0      0.0      0.0       0.0     0   -999.0   \n",
       "2  -999.0             0.0      0.0      0.0       0.0     0   -999.0   \n",
       "3  -999.0             0.0      0.0      0.0       0.0     0   -999.0   \n",
       "4  -999.0             0.0      0.0      0.0       0.0     0   -999.0   \n",
       "\n",
       "   Unnamed: 87  \n",
       "0       -999.0  \n",
       "1       -999.0  \n",
       "2       -999.0  \n",
       "3       -999.0  \n",
       "4       -999.0  \n",
       "\n",
       "[5 rows x 88 columns]"
      ]
     },
     "execution_count": 11,
     "metadata": {},
     "output_type": "execute_result"
    }
   ],
   "source": [
    "words.head()"
   ]
  },
  {
   "cell_type": "markdown",
   "metadata": {
    "collapsed": true
   },
   "source": [
    "### Feature Engineering"
   ]
  },
  {
   "cell_type": "markdown",
   "metadata": {},
   "source": [
    "** Feature List **"
   ]
  },
  {
   "cell_type": "markdown",
   "metadata": {},
   "source": [
    "** Features Based on the user. **\n",
    "\n",
    "* Gender\n",
    "* Age\n",
    "* Music\n",
    "* REGION\n",
    "* LIST_OWN\n",
    "* LIST_BACK\n",
    "* Response to different questions\n",
    "\n",
    "\n",
    "** Features Based on the artist. **\n",
    "\n",
    "* Heard_Of\n",
    "* Own_artist_music\n",
    "* Like Artist\n",
    "* Characteristics of the songs sung by the artist ( Edgy, Uninspired etc. )\n",
    "\n",
    "** Features Based on the pair of user and artist. **\n",
    "\n",
    "* Mean Artist Rating\n",
    "* Min Artist Rating\n",
    "* Max Artist Rating\n",
    "* Median Artist Rating\n",
    "* Mean User Rating\n",
    "* Min User Rating\n",
    "* Max User Rating\n",
    "* Median User Rating\n",
    "* Mean Rating given to Artist by a User\n",
    "* Min Rating given to Artist by a User\n",
    "* Max Rating given to Artist by a User\n",
    "* Median Rating given to Artist by a User"
   ]
  },
  {
   "cell_type": "code",
   "execution_count": 12,
   "metadata": {},
   "outputs": [
    {
     "name": "stdout",
     "output_type": "stream",
     "text": [
      "Number of users that are present in both training and test set  44643\n"
     ]
    }
   ],
   "source": [
    "print('Number of users that are present in both training and test set ', len(set(train.User) & set(test.User)))"
   ]
  },
  {
   "cell_type": "code",
   "execution_count": 13,
   "metadata": {},
   "outputs": [
    {
     "name": "stdout",
     "output_type": "stream",
     "text": [
      "Number of artists that are present in both training and test set  50\n"
     ]
    }
   ],
   "source": [
    "print('Number of artists that are present in both training and test set ', len(set(train.Artist) & set(test.Artist)))"
   ]
  },
  {
   "cell_type": "markdown",
   "metadata": {},
   "source": [
    "** Merge Data with words and users data frames. **"
   ]
  },
  {
   "cell_type": "code",
   "execution_count": 14,
   "metadata": {
    "collapsed": true
   },
   "outputs": [],
   "source": [
    "train_merged = pd.merge(train, words, left_on=['Artist', 'User'], right_on=['Artist', 'User'], how='left')\n",
    "train_merged = pd.merge(train_merged, users, left_on=['User'], right_on=['RESPID'], how='left')\n",
    "\n",
    "test_merged = pd.merge(test, words, left_on=['Artist', 'User'], right_on=['Artist', 'User'], how='left')\n",
    "test_merged = pd.merge(test_merged, users, left_on=['User'], right_on=['RESPID'], how='left')"
   ]
  },
  {
   "cell_type": "code",
   "execution_count": 15,
   "metadata": {
    "collapsed": true
   },
   "outputs": [],
   "source": [
    "# group by user\n",
    "user_group = train.groupby('User')\n",
    "\n",
    "# group by artist\n",
    "artist_group = train.groupby('Artist')\n",
    "\n",
    "# mean user rating based on the training set\n",
    "mean_user_ratings = user_group['Rating'].mean().to_dict()\n",
    "\n",
    "# min user rating based on the training set\n",
    "min_user_ratings = user_group['Rating'].min().to_dict()\n",
    "\n",
    "# max user rating based on the training set\n",
    "max_user_ratings = user_group['Rating'].max().to_dict()\n",
    "\n",
    "# median user rating based on the training set\n",
    "median_user_ratings = user_group['Rating'].median().to_dict()\n",
    "\n",
    "\n",
    "# mean artist rating based on the training set\n",
    "mean_artist_ratings = artist_group['Rating'].mean().to_dict()\n",
    "\n",
    "# min artist rating based on the training set\n",
    "min_artist_ratings = artist_group['Rating'].min().to_dict()\n",
    "\n",
    "# max artist rating based on the training set\n",
    "max_artist_ratings = artist_group['Rating'].max().to_dict()\n",
    "\n",
    "# median artist rating based on the training set\n",
    "median_artist_ratings = artist_group['Rating'].median().to_dict()\n",
    "\n",
    "train_merged['mean_user_rating'] = train_merged.User.map(lambda x: mean_user_ratings[x] if x in mean_user_ratings else -999)\n",
    "test_merged['mean_user_rating'] = test_merged.User.map(lambda x: mean_user_ratings[x] if x in mean_user_ratings else -999)\n",
    "\n",
    "train_merged['min_user_rating'] = train_merged.User.map(lambda x: min_user_ratings[x] if x in min_user_ratings else -999)\n",
    "test_merged['min_user_rating'] = test_merged.User.map(lambda x: min_user_ratings[x] if x in min_user_ratings else -999)\n",
    "\n",
    "train_merged['max_user_rating'] = train_merged.User.map(lambda x: max_user_ratings[x] if x in max_user_ratings else -999)\n",
    "test_merged['max_user_rating'] = test_merged.User.map(lambda x: max_user_ratings[x] if x in max_user_ratings else -999)\n",
    "\n",
    "train_merged['median_user_rating'] = train_merged.User.map(lambda x: median_user_ratings[x] if x in median_user_ratings else -999)\n",
    "test_merged['median_user_rating'] = test_merged.User.map(lambda x: median_user_ratings[x] if x in median_user_ratings else -999)\n",
    "\n",
    "train_merged['mean_artist_rating'] = train_merged.Artist.map(lambda x: mean_artist_ratings[x] if x in mean_artist_ratings else -999)\n",
    "test_merged['mean_artist_rating'] = test_merged.Artist.map(lambda x: mean_artist_ratings[x] if x in mean_artist_ratings else -999)\n",
    "\n",
    "train_merged['min_artist_rating'] = train_merged.Artist.map(lambda x: min_artist_ratings[x] if x in min_artist_ratings else -999)\n",
    "test_merged['min_artist_rating'] = test_merged.Artist.map(lambda x: min_artist_ratings[x] if x in min_artist_ratings else -999)\n",
    "\n",
    "train_merged['max_artist_rating'] = train_merged.Artist.map(lambda x: max_artist_ratings[x] if x in max_artist_ratings else -999)\n",
    "test_merged['max_artist_rating'] = test_merged.Artist.map(lambda x: max_artist_ratings[x] if x in max_artist_ratings else -999)\n",
    "\n",
    "train_merged['median_artist_rating'] = train_merged.Artist.map(lambda x: median_artist_ratings[x] if x in median_artist_ratings else -999)\n",
    "test_merged['median_artist_rating'] = test_merged.Artist.map(lambda x: median_artist_ratings[x] if x in median_artist_ratings else -999)"
   ]
  },
  {
   "cell_type": "code",
   "execution_count": 16,
   "metadata": {
    "collapsed": true
   },
   "outputs": [],
   "source": [
    "train_merged = train_merged.fillna(-999)\n",
    "test_merged = test_merged.fillna(-999)"
   ]
  },
  {
   "cell_type": "code",
   "execution_count": 17,
   "metadata": {
    "collapsed": true
   },
   "outputs": [],
   "source": [
    "train_merged['LIST_OWN'] = train_merged.LIST_OWN.astype(int)\n",
    "test_merged['LIST_OWN'] = test_merged.LIST_OWN.astype(int)\n",
    "\n",
    "train_merged['LIST_BACK'] = train_merged.LIST_BACK.astype(int)\n",
    "test_merged['LIST_BACK'] = test_merged.LIST_BACK.astype(int)"
   ]
  },
  {
   "cell_type": "code",
   "execution_count": 18,
   "metadata": {
    "collapsed": true
   },
   "outputs": [],
   "source": [
    "features = train_merged.columns.drop(['RESPID', 'Artist', 'User', 'Rating'])\n",
    "\n",
    "X = train_merged[features]\n",
    "y = train_merged.Rating\n",
    "\n",
    "final_test = test_merged[features]"
   ]
  },
  {
   "cell_type": "markdown",
   "metadata": {
    "collapsed": true
   },
   "source": [
    "** Split data set. **"
   ]
  },
  {
   "cell_type": "code",
   "execution_count": 19,
   "metadata": {
    "collapsed": true
   },
   "outputs": [],
   "source": [
    "X_train, X_test, y_train, y_test = train_test_split(X, y, test_size=0.2, random_state=1212)"
   ]
  },
  {
   "cell_type": "code",
   "execution_count": 20,
   "metadata": {},
   "outputs": [
    {
     "data": {
      "text/plain": [
       "((150952, 122), (37738, 122))"
      ]
     },
     "execution_count": 20,
     "metadata": {},
     "output_type": "execute_result"
    }
   ],
   "source": [
    "X_train.shape, X_test.shape"
   ]
  },
  {
   "cell_type": "markdown",
   "metadata": {
    "collapsed": true
   },
   "source": [
    "** Cross Validation Scheme **"
   ]
  },
  {
   "cell_type": "code",
   "execution_count": 21,
   "metadata": {
    "collapsed": true
   },
   "outputs": [],
   "source": [
    "def rmse(y_true, y_preds):\n",
    "    return np.sqrt(mean_squared_error(y_true, y_preds))\n",
    "\n",
    "rmse_scorer = make_scorer(rmse, greater_is_better=False)"
   ]
  },
  {
   "cell_type": "code",
   "execution_count": 22,
   "metadata": {},
   "outputs": [
    {
     "name": "stderr",
     "output_type": "stream",
     "text": [
      "/home/mahantesh/anaconda3/lib/python3.6/site-packages/sklearn/feature_selection/univariate_selection.py:279: RuntimeWarning: invalid value encountered in true_divide\n",
      "  corr /= row_norms(X.T)\n",
      "/home/mahantesh/anaconda3/lib/python3.6/site-packages/scipy/stats/_distn_infrastructure.py:879: RuntimeWarning: invalid value encountered in greater\n",
      "  return (self.a < x) & (x < self.b)\n",
      "/home/mahantesh/anaconda3/lib/python3.6/site-packages/scipy/stats/_distn_infrastructure.py:879: RuntimeWarning: invalid value encountered in less\n",
      "  return (self.a < x) & (x < self.b)\n",
      "/home/mahantesh/anaconda3/lib/python3.6/site-packages/scipy/stats/_distn_infrastructure.py:1818: RuntimeWarning: invalid value encountered in less_equal\n",
      "  cond2 = cond0 & (x <= self.a)\n",
      "/home/mahantesh/anaconda3/lib/python3.6/site-packages/sklearn/feature_selection/univariate_selection.py:279: RuntimeWarning: invalid value encountered in true_divide\n",
      "  corr /= row_norms(X.T)\n",
      "/home/mahantesh/anaconda3/lib/python3.6/site-packages/scipy/stats/_distn_infrastructure.py:879: RuntimeWarning: invalid value encountered in greater\n",
      "  return (self.a < x) & (x < self.b)\n",
      "/home/mahantesh/anaconda3/lib/python3.6/site-packages/scipy/stats/_distn_infrastructure.py:879: RuntimeWarning: invalid value encountered in less\n",
      "  return (self.a < x) & (x < self.b)\n",
      "/home/mahantesh/anaconda3/lib/python3.6/site-packages/scipy/stats/_distn_infrastructure.py:1818: RuntimeWarning: invalid value encountered in less_equal\n",
      "  cond2 = cond0 & (x <= self.a)\n",
      "/home/mahantesh/anaconda3/lib/python3.6/site-packages/sklearn/feature_selection/univariate_selection.py:279: RuntimeWarning: invalid value encountered in true_divide\n",
      "  corr /= row_norms(X.T)\n",
      "/home/mahantesh/anaconda3/lib/python3.6/site-packages/scipy/stats/_distn_infrastructure.py:879: RuntimeWarning: invalid value encountered in greater\n",
      "  return (self.a < x) & (x < self.b)\n",
      "/home/mahantesh/anaconda3/lib/python3.6/site-packages/scipy/stats/_distn_infrastructure.py:879: RuntimeWarning: invalid value encountered in less\n",
      "  return (self.a < x) & (x < self.b)\n",
      "/home/mahantesh/anaconda3/lib/python3.6/site-packages/scipy/stats/_distn_infrastructure.py:1818: RuntimeWarning: invalid value encountered in less_equal\n",
      "  cond2 = cond0 & (x <= self.a)\n"
     ]
    }
   ],
   "source": [
    "select = SelectKBest(f_regression, k=50)\n",
    "# est = RandomForestRegressor()\n",
    "est = xgb.XGBRegressor(n_estimators=100)\n",
    "pipeline = Pipeline([('select', select), ('est', est)])\n",
    "cv = KFold(len(y_train), n_folds=3, shuffle=True, random_state=1233)\n",
    "\n",
    "cv_scores = cross_val_score(pipeline, X_train, y_train, scoring=rmse_scorer, cv=cv, n_jobs=-1)"
   ]
  },
  {
   "cell_type": "code",
   "execution_count": 23,
   "metadata": {},
   "outputs": [
    {
     "name": "stdout",
     "output_type": "stream",
     "text": [
      "Cross Validation scores:  [-12.61690859 -12.54917852 -12.49805519]\n"
     ]
    }
   ],
   "source": [
    "print('Cross Validation scores: ', cv_scores)"
   ]
  },
  {
   "cell_type": "code",
   "execution_count": null,
   "metadata": {},
   "outputs": [
    {
     "name": "stderr",
     "output_type": "stream",
     "text": [
      "/home/mahantesh/anaconda3/lib/python3.6/site-packages/sklearn/feature_selection/univariate_selection.py:279: RuntimeWarning: invalid value encountered in true_divide\n",
      "  corr /= row_norms(X.T)\n",
      "/home/mahantesh/anaconda3/lib/python3.6/site-packages/scipy/stats/_distn_infrastructure.py:879: RuntimeWarning: invalid value encountered in greater\n",
      "  return (self.a < x) & (x < self.b)\n",
      "/home/mahantesh/anaconda3/lib/python3.6/site-packages/scipy/stats/_distn_infrastructure.py:879: RuntimeWarning: invalid value encountered in less\n",
      "  return (self.a < x) & (x < self.b)\n",
      "/home/mahantesh/anaconda3/lib/python3.6/site-packages/scipy/stats/_distn_infrastructure.py:1818: RuntimeWarning: invalid value encountered in less_equal\n",
      "  cond2 = cond0 & (x <= self.a)\n"
     ]
    },
    {
     "name": "stdout",
     "output_type": "stream",
     "text": [
      "RMSE on unseen examples: 12.609792\n"
     ]
    }
   ],
   "source": [
    "pipeline.fit(X_train, y_train)\n",
    "y_preds = pipeline.predict(X_test)\n",
    "print('RMSE on unseen examples: %f'%(rmse(y_test, y_preds)))"
   ]
  },
  {
   "cell_type": "markdown",
   "metadata": {
    "collapsed": true
   },
   "source": [
    "** Notes **\n",
    "\n",
    "Add the following features\n",
    "\n",
    "* Mean (artist, user) rating\n",
    "* Min (artist, user) rating\n",
    "* Max (artist, user) rating\n",
    "* Median (artist, user) rating"
   ]
  },
  {
   "cell_type": "code",
   "execution_count": null,
   "metadata": {},
   "outputs": [],
   "source": []
  },
  {
   "cell_type": "code",
   "execution_count": null,
   "metadata": {
    "collapsed": true
   },
   "outputs": [],
   "source": []
  },
  {
   "cell_type": "code",
   "execution_count": 1,
   "metadata": {},
   "outputs": [
    {
     "ename": "NameError",
     "evalue": "name 'X_train' is not defined",
     "output_type": "error",
     "traceback": [
      "\u001b[0;31m---------------------------------------------------------------------------\u001b[0m",
      "\u001b[0;31mNameError\u001b[0m                                 Traceback (most recent call last)",
      "\u001b[0;32m<ipython-input-1-b889fab2d59b>\u001b[0m in \u001b[0;36m<module>\u001b[0;34m()\u001b[0m\n\u001b[1;32m      4\u001b[0m \u001b[0;34m\u001b[0m\u001b[0m\n\u001b[1;32m      5\u001b[0m \u001b[0;31m# Train the model using the training sets\u001b[0m\u001b[0;34m\u001b[0m\u001b[0;34m\u001b[0m\u001b[0m\n\u001b[0;32m----> 6\u001b[0;31m \u001b[0mmodel\u001b[0m\u001b[0;34m.\u001b[0m\u001b[0mfit\u001b[0m\u001b[0;34m(\u001b[0m\u001b[0mX_train\u001b[0m\u001b[0;34m,\u001b[0m \u001b[0my_train\u001b[0m\u001b[0;34m)\u001b[0m\u001b[0;34m\u001b[0m\u001b[0m\n\u001b[0m\u001b[1;32m      7\u001b[0m \u001b[0;34m\u001b[0m\u001b[0m\n\u001b[1;32m      8\u001b[0m \u001b[0mpred\u001b[0m\u001b[0;34m=\u001b[0m \u001b[0mmodel\u001b[0m\u001b[0;34m.\u001b[0m\u001b[0mpredict\u001b[0m\u001b[0;34m(\u001b[0m\u001b[0mX_test\u001b[0m\u001b[0;34m)\u001b[0m\u001b[0;34m\u001b[0m\u001b[0m\n",
      "\u001b[0;31mNameError\u001b[0m: name 'X_train' is not defined"
     ]
    }
   ],
   "source": [
    "from sklearn.naive_bayes import GaussianNB\n",
    "#Create a Gaussian Classifier\n",
    "model = GaussianNB()\n",
    "\n",
    "# Train the model using the training sets \n",
    "model.fit(X_train, y_train)\n",
    "\n",
    "pred= model.predict(X_test)\n"
   ]
  },
  {
   "cell_type": "code",
   "execution_count": 2,
   "metadata": {},
   "outputs": [
    {
     "ename": "NameError",
     "evalue": "name 'pred' is not defined",
     "output_type": "error",
     "traceback": [
      "\u001b[0;31m---------------------------------------------------------------------------\u001b[0m",
      "\u001b[0;31mNameError\u001b[0m                                 Traceback (most recent call last)",
      "\u001b[0;32m<ipython-input-2-dfe82289aa92>\u001b[0m in \u001b[0;36m<module>\u001b[0;34m()\u001b[0m\n\u001b[1;32m      3\u001b[0m \u001b[0;32mfor\u001b[0m \u001b[0mi\u001b[0m \u001b[0;32min\u001b[0m \u001b[0mrange\u001b[0m \u001b[0;34m(\u001b[0m\u001b[0;36m0\u001b[0m\u001b[0;34m,\u001b[0m\u001b[0;36m1000\u001b[0m\u001b[0;34m)\u001b[0m\u001b[0;34m:\u001b[0m\u001b[0;34m\u001b[0m\u001b[0m\n\u001b[1;32m      4\u001b[0m \u001b[0;34m\u001b[0m\u001b[0m\n\u001b[0;32m----> 5\u001b[0;31m     \u001b[0;32mif\u001b[0m \u001b[0mpred\u001b[0m\u001b[0;34m[\u001b[0m\u001b[0mi\u001b[0m\u001b[0;34m]\u001b[0m\u001b[0;34m==\u001b[0m\u001b[0mactuallabel\u001b[0m\u001b[0;34m[\u001b[0m\u001b[0mi\u001b[0m\u001b[0;34m]\u001b[0m\u001b[0;34m:\u001b[0m\u001b[0;34m\u001b[0m\u001b[0m\n\u001b[0m\u001b[1;32m      6\u001b[0m         \u001b[0mcount\u001b[0m \u001b[0;34m=\u001b[0m \u001b[0mcount\u001b[0m \u001b[0;34m+\u001b[0m \u001b[0;36m1\u001b[0m\u001b[0;34m\u001b[0m\u001b[0m\n\u001b[1;32m      7\u001b[0m \u001b[0;34m\u001b[0m\u001b[0m\n",
      "\u001b[0;31mNameError\u001b[0m: name 'pred' is not defined"
     ]
    }
   ],
   "source": [
    "\n",
    "count = 0;\n",
    "for i in range (0,1000):\n",
    "    \n",
    "    if pred[i]==actuallabel[i]:\n",
    "        count = count + 1\n",
    "        \n",
    "    else:\n",
    "        count = count + 0\n",
    "    \n",
    "print(\"accuracy =\", (count/1000)*100)"
   ]
  },
  {
   "cell_type": "code",
   "execution_count": null,
   "metadata": {
    "collapsed": true
   },
   "outputs": [],
   "source": []
  },
  {
   "cell_type": "code",
   "execution_count": null,
   "metadata": {
    "collapsed": true
   },
   "outputs": [],
   "source": []
  },
  {
   "cell_type": "code",
   "execution_count": null,
   "metadata": {
    "collapsed": true
   },
   "outputs": [],
   "source": []
  },
  {
   "cell_type": "code",
   "execution_count": null,
   "metadata": {
    "collapsed": true
   },
   "outputs": [],
   "source": []
  },
  {
   "cell_type": "code",
   "execution_count": null,
   "metadata": {
    "collapsed": true
   },
   "outputs": [],
   "source": []
  },
  {
   "cell_type": "code",
   "execution_count": null,
   "metadata": {
    "collapsed": true
   },
   "outputs": [],
   "source": []
  },
  {
   "cell_type": "code",
   "execution_count": null,
   "metadata": {
    "collapsed": true
   },
   "outputs": [],
   "source": []
  },
  {
   "cell_type": "code",
   "execution_count": null,
   "metadata": {
    "collapsed": true
   },
   "outputs": [],
   "source": []
  },
  {
   "cell_type": "code",
   "execution_count": null,
   "metadata": {
    "collapsed": true
   },
   "outputs": [],
   "source": []
  }
 ],
 "metadata": {
  "anaconda-cloud": {},
  "kernelspec": {
   "display_name": "Python 3",
   "language": "python",
   "name": "python3"
  },
  "language_info": {
   "codemirror_mode": {
    "name": "ipython",
    "version": 3
   },
   "file_extension": ".py",
   "mimetype": "text/x-python",
   "name": "python",
   "nbconvert_exporter": "python",
   "pygments_lexer": "ipython3",
   "version": "3.6.1"
  }
 },
 "nbformat": 4,
 "nbformat_minor": 1
}
