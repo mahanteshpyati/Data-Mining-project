{
 "cells": [
  {
   "cell_type": "code",
   "execution_count": 1,
   "metadata": {},
   "outputs": [
    {
     "name": "stdout",
     "output_type": "stream",
     "text": [
      "Populating the interactive namespace from numpy and matplotlib\n"
     ]
    }
   ],
   "source": [
    "import numpy as np\n",
    "import pandas as pd\n",
    "import matplotlib.pyplot as plt\n",
    "import seaborn as sns\n",
    "%pylab inline"
   ]
  },
  {
   "cell_type": "code",
   "execution_count": 3,
   "metadata": {},
   "outputs": [
    {
     "name": "stdout",
     "output_type": "stream",
     "text": [
      "Reading Data Completed\n"
     ]
    }
   ],
   "source": [
    "# load files\n",
    "train = pd.read_csv(\"train.csv\")\n",
    "test = pd.read_csv(\"test.csv\")\n",
    "users = pd.read_csv(\"users.csv\")\n",
    "words =pd.read_csv(\"words.csv\", encoding='ISO-8859-1')\n",
    "print (\"Reading Data Completed\")"
   ]
  },
  {
   "cell_type": "markdown",
   "metadata": {},
   "source": [
    "### Description about train/test files\n",
    "\n",
    "\n",
    "This csv file contains data that relate to how people rate EMI artists, during the market research interviews, right after hearing a sample of an artist’s song. \n",
    "\n",
    "The 6 columns are:\n",
    "\n",
    "* __Artist__: An anonymised identifier for the EMI artist.\n",
    "* __Track__: An anonymised identifier for the artist’s track.\n",
    "* __User__: An anonymised identifier for the market research respondent, who will have just heard a sample from the track.\n",
    "* __Rating__: A number between X-100 which answers the question: How much do you like or dislike the music?  (Train only, you're predicting this for the test set)\n",
    "* __Time__: The time the market research was completed: It is the anonymised research date indicating which month the research was conducted in. It can help you understand which other artists/tracks were researched in the same wave. Note it is not in chronological order"
   ]
  },
  {
   "cell_type": "code",
   "execution_count": 4,
   "metadata": {},
   "outputs": [
    {
     "data": {
      "text/html": [
       "<div>\n",
       "<style>\n",
       "    .dataframe thead tr:only-child th {\n",
       "        text-align: right;\n",
       "    }\n",
       "\n",
       "    .dataframe thead th {\n",
       "        text-align: left;\n",
       "    }\n",
       "\n",
       "    .dataframe tbody tr th {\n",
       "        vertical-align: top;\n",
       "    }\n",
       "</style>\n",
       "<table border=\"1\" class=\"dataframe\">\n",
       "  <thead>\n",
       "    <tr style=\"text-align: right;\">\n",
       "      <th></th>\n",
       "      <th>Artist</th>\n",
       "      <th>Track</th>\n",
       "      <th>User</th>\n",
       "      <th>Rating</th>\n",
       "      <th>Time</th>\n",
       "    </tr>\n",
       "  </thead>\n",
       "  <tbody>\n",
       "    <tr>\n",
       "      <th>0</th>\n",
       "      <td>40</td>\n",
       "      <td>179</td>\n",
       "      <td>47994</td>\n",
       "      <td>9</td>\n",
       "      <td>17</td>\n",
       "    </tr>\n",
       "    <tr>\n",
       "      <th>1</th>\n",
       "      <td>9</td>\n",
       "      <td>23</td>\n",
       "      <td>8575</td>\n",
       "      <td>58</td>\n",
       "      <td>7</td>\n",
       "    </tr>\n",
       "    <tr>\n",
       "      <th>2</th>\n",
       "      <td>46</td>\n",
       "      <td>168</td>\n",
       "      <td>45475</td>\n",
       "      <td>13</td>\n",
       "      <td>16</td>\n",
       "    </tr>\n",
       "    <tr>\n",
       "      <th>3</th>\n",
       "      <td>11</td>\n",
       "      <td>153</td>\n",
       "      <td>39508</td>\n",
       "      <td>42</td>\n",
       "      <td>15</td>\n",
       "    </tr>\n",
       "    <tr>\n",
       "      <th>4</th>\n",
       "      <td>14</td>\n",
       "      <td>32</td>\n",
       "      <td>11565</td>\n",
       "      <td>54</td>\n",
       "      <td>19</td>\n",
       "    </tr>\n",
       "  </tbody>\n",
       "</table>\n",
       "</div>"
      ],
      "text/plain": [
       "   Artist  Track   User  Rating  Time\n",
       "0      40    179  47994       9    17\n",
       "1       9     23   8575      58     7\n",
       "2      46    168  45475      13    16\n",
       "3      11    153  39508      42    15\n",
       "4      14     32  11565      54    19"
      ]
     },
     "execution_count": 4,
     "metadata": {},
     "output_type": "execute_result"
    }
   ],
   "source": [
    "train.head()"
   ]
  },
  {
   "cell_type": "code",
   "execution_count": 5,
   "metadata": {},
   "outputs": [
    {
     "data": {
      "text/html": [
       "<div>\n",
       "<style>\n",
       "    .dataframe thead tr:only-child th {\n",
       "        text-align: right;\n",
       "    }\n",
       "\n",
       "    .dataframe thead th {\n",
       "        text-align: left;\n",
       "    }\n",
       "\n",
       "    .dataframe tbody tr th {\n",
       "        vertical-align: top;\n",
       "    }\n",
       "</style>\n",
       "<table border=\"1\" class=\"dataframe\">\n",
       "  <thead>\n",
       "    <tr style=\"text-align: right;\">\n",
       "      <th></th>\n",
       "      <th>Artist</th>\n",
       "      <th>Track</th>\n",
       "      <th>User</th>\n",
       "      <th>Time</th>\n",
       "    </tr>\n",
       "  </thead>\n",
       "  <tbody>\n",
       "    <tr>\n",
       "      <th>0</th>\n",
       "      <td>1</td>\n",
       "      <td>6</td>\n",
       "      <td>3475</td>\n",
       "      <td>18</td>\n",
       "    </tr>\n",
       "    <tr>\n",
       "      <th>1</th>\n",
       "      <td>6</td>\n",
       "      <td>149</td>\n",
       "      <td>39210</td>\n",
       "      <td>15</td>\n",
       "    </tr>\n",
       "    <tr>\n",
       "      <th>2</th>\n",
       "      <td>40</td>\n",
       "      <td>177</td>\n",
       "      <td>47861</td>\n",
       "      <td>17</td>\n",
       "    </tr>\n",
       "    <tr>\n",
       "      <th>3</th>\n",
       "      <td>31</td>\n",
       "      <td>79</td>\n",
       "      <td>27413</td>\n",
       "      <td>11</td>\n",
       "    </tr>\n",
       "    <tr>\n",
       "      <th>4</th>\n",
       "      <td>26</td>\n",
       "      <td>66</td>\n",
       "      <td>23232</td>\n",
       "      <td>22</td>\n",
       "    </tr>\n",
       "  </tbody>\n",
       "</table>\n",
       "</div>"
      ],
      "text/plain": [
       "   Artist  Track   User  Time\n",
       "0       1      6   3475    18\n",
       "1       6    149  39210    15\n",
       "2      40    177  47861    17\n",
       "3      31     79  27413    11\n",
       "4      26     66  23232    22"
      ]
     },
     "execution_count": 5,
     "metadata": {},
     "output_type": "execute_result"
    }
   ],
   "source": [
    "test.head()"
   ]
  },
  {
   "cell_type": "markdown",
   "metadata": {},
   "source": [
    "users.csv files gives data about the respondents themselves, including their attitude towards music. The columns include:\n",
    "\n",
    "* __User__: The anonymised user identifier\n",
    "* __Gender__: Male/female\n",
    "* __Age__: The respondent’s age, in years.\n",
    "* __Working status__: Whether they are working full-time/retired/etc.\n",
    "* __Region__: The region of the United Kingdom where they live.\n",
    "* __MUSIC__: The respondent’s view on the importance of music in his/her life.\n",
    "* __LIST_OWN__: An estimate for the number of daily hours spent listening to music they own or have chosen.\n",
    "* __LIST_BACK__: An estimate for the number of daily hours the respondent spends listening to background music/music they have not chosen.\n",
    "* __Music habit questions__: Each of these asks the respondent to rate, on a scale of X-100, whether they agree with the following:\n",
    "<ol>\n",
    "<li>I enjoy actively searching for and discovering music that I have never heard before</li>\n",
    "<li>I find it easy to find new music</li>\n",
    "<li>I am constantly interested in and looking for more music</li>\n",
    "<li>I would like to buy new music but I don’t know what to buy</li>\n",
    "<li>I used to know where to find music</li>\n",
    "<li>I am not willing to pay for music</li>\n",
    "<li>I enjoy music primarily from going out to dance</li>\n",
    "<li>Music for me is all about nightlife and going out</li>\n",
    "<li>I am out of touch with new music</li>\n",
    "<li>My music collection is a source of pride</li>\n",
    "<li>Pop music is fun</li>\n",
    "<li>Pop music helps me to escape</li>\n",
    "<li>I want a multi media experience at my fingertips wherever I go</li>\n",
    "<li>I love technology</li>\n",
    "<li>People often ask my advice on music - what to listen to</li>\n",
    "<li>I would be willing to pay for the opportunity to buy new music pre-release</li>\n",
    "<li>I find seeing a new artist / band on TV a useful way of discovering new music</li>\n",
    "<li>I like to be at the cutting edge of new music</li>\n",
    "<li>I like to know about music before other people</li>\n",
    "</ol>"
   ]
  },
  {
   "cell_type": "code",
   "execution_count": 6,
   "metadata": {},
   "outputs": [
    {
     "data": {
      "text/html": [
       "<div>\n",
       "<style>\n",
       "    .dataframe thead tr:only-child th {\n",
       "        text-align: right;\n",
       "    }\n",
       "\n",
       "    .dataframe thead th {\n",
       "        text-align: left;\n",
       "    }\n",
       "\n",
       "    .dataframe tbody tr th {\n",
       "        vertical-align: top;\n",
       "    }\n",
       "</style>\n",
       "<table border=\"1\" class=\"dataframe\">\n",
       "  <thead>\n",
       "    <tr style=\"text-align: right;\">\n",
       "      <th></th>\n",
       "      <th>RESPID</th>\n",
       "      <th>GENDER</th>\n",
       "      <th>AGE</th>\n",
       "      <th>WORKING</th>\n",
       "      <th>REGION</th>\n",
       "      <th>MUSIC</th>\n",
       "      <th>LIST_OWN</th>\n",
       "      <th>LIST_BACK</th>\n",
       "      <th>Q1</th>\n",
       "      <th>Q2</th>\n",
       "      <th>...</th>\n",
       "      <th>Q10</th>\n",
       "      <th>Q11</th>\n",
       "      <th>Q12</th>\n",
       "      <th>Q13</th>\n",
       "      <th>Q14</th>\n",
       "      <th>Q15</th>\n",
       "      <th>Q16</th>\n",
       "      <th>Q17</th>\n",
       "      <th>Q18</th>\n",
       "      <th>Q19</th>\n",
       "    </tr>\n",
       "  </thead>\n",
       "  <tbody>\n",
       "    <tr>\n",
       "      <th>0</th>\n",
       "      <td>36927</td>\n",
       "      <td>Female</td>\n",
       "      <td>60.0</td>\n",
       "      <td>Other</td>\n",
       "      <td>South</td>\n",
       "      <td>Music is important to me but not necessarily m...</td>\n",
       "      <td>1 hour</td>\n",
       "      <td>NaN</td>\n",
       "      <td>49.0</td>\n",
       "      <td>50.0</td>\n",
       "      <td>...</td>\n",
       "      <td>50.0</td>\n",
       "      <td>50.0</td>\n",
       "      <td>71.0</td>\n",
       "      <td>52.0</td>\n",
       "      <td>71.0</td>\n",
       "      <td>9.0</td>\n",
       "      <td>7.0</td>\n",
       "      <td>72.0</td>\n",
       "      <td>49.0</td>\n",
       "      <td>26.0</td>\n",
       "    </tr>\n",
       "    <tr>\n",
       "      <th>1</th>\n",
       "      <td>3566</td>\n",
       "      <td>Female</td>\n",
       "      <td>36.0</td>\n",
       "      <td>Full-time housewife / househusband</td>\n",
       "      <td>South</td>\n",
       "      <td>Music is important to me but not necessarily m...</td>\n",
       "      <td>1 hour</td>\n",
       "      <td>1 hour</td>\n",
       "      <td>55.0</td>\n",
       "      <td>55.0</td>\n",
       "      <td>...</td>\n",
       "      <td>12.0</td>\n",
       "      <td>65.0</td>\n",
       "      <td>65.0</td>\n",
       "      <td>80.0</td>\n",
       "      <td>79.0</td>\n",
       "      <td>51.0</td>\n",
       "      <td>31.0</td>\n",
       "      <td>68.0</td>\n",
       "      <td>54.0</td>\n",
       "      <td>33.0</td>\n",
       "    </tr>\n",
       "    <tr>\n",
       "      <th>2</th>\n",
       "      <td>20054</td>\n",
       "      <td>Female</td>\n",
       "      <td>52.0</td>\n",
       "      <td>Employed 30+ hours a week</td>\n",
       "      <td>Midlands</td>\n",
       "      <td>I like music but it does not feature heavily i...</td>\n",
       "      <td>1 hour</td>\n",
       "      <td>Less than an hour</td>\n",
       "      <td>11.0</td>\n",
       "      <td>50.0</td>\n",
       "      <td>...</td>\n",
       "      <td>50.0</td>\n",
       "      <td>94.0</td>\n",
       "      <td>51.0</td>\n",
       "      <td>74.0</td>\n",
       "      <td>66.0</td>\n",
       "      <td>27.0</td>\n",
       "      <td>46.0</td>\n",
       "      <td>73.0</td>\n",
       "      <td>8.0</td>\n",
       "      <td>31.0</td>\n",
       "    </tr>\n",
       "    <tr>\n",
       "      <th>3</th>\n",
       "      <td>41749</td>\n",
       "      <td>Female</td>\n",
       "      <td>40.0</td>\n",
       "      <td>Employed 8-29 hours per week</td>\n",
       "      <td>South</td>\n",
       "      <td>Music means a lot to me and is a passion of mine</td>\n",
       "      <td>2 hours</td>\n",
       "      <td>3 hours</td>\n",
       "      <td>81.0</td>\n",
       "      <td>80.0</td>\n",
       "      <td>...</td>\n",
       "      <td>76.0</td>\n",
       "      <td>74.0</td>\n",
       "      <td>64.0</td>\n",
       "      <td>73.0</td>\n",
       "      <td>85.0</td>\n",
       "      <td>61.0</td>\n",
       "      <td>77.0</td>\n",
       "      <td>76.0</td>\n",
       "      <td>78.0</td>\n",
       "      <td>88.0</td>\n",
       "    </tr>\n",
       "    <tr>\n",
       "      <th>4</th>\n",
       "      <td>23108</td>\n",
       "      <td>Female</td>\n",
       "      <td>16.0</td>\n",
       "      <td>Full-time student</td>\n",
       "      <td>North</td>\n",
       "      <td>Music means a lot to me and is a passion of mine</td>\n",
       "      <td>3 hours</td>\n",
       "      <td>6 hours</td>\n",
       "      <td>76.0</td>\n",
       "      <td>79.0</td>\n",
       "      <td>...</td>\n",
       "      <td>56.0</td>\n",
       "      <td>13.0</td>\n",
       "      <td>82.0</td>\n",
       "      <td>79.0</td>\n",
       "      <td>68.0</td>\n",
       "      <td>71.0</td>\n",
       "      <td>NaN</td>\n",
       "      <td>86.0</td>\n",
       "      <td>80.0</td>\n",
       "      <td>32.0</td>\n",
       "    </tr>\n",
       "  </tbody>\n",
       "</table>\n",
       "<p>5 rows × 27 columns</p>\n",
       "</div>"
      ],
      "text/plain": [
       "   RESPID  GENDER   AGE                             WORKING    REGION  \\\n",
       "0   36927  Female  60.0                               Other     South   \n",
       "1    3566  Female  36.0  Full-time housewife / househusband     South   \n",
       "2   20054  Female  52.0           Employed 30+ hours a week  Midlands   \n",
       "3   41749  Female  40.0        Employed 8-29 hours per week     South   \n",
       "4   23108  Female  16.0                   Full-time student     North   \n",
       "\n",
       "                                               MUSIC LIST_OWN  \\\n",
       "0  Music is important to me but not necessarily m...   1 hour   \n",
       "1  Music is important to me but not necessarily m...   1 hour   \n",
       "2  I like music but it does not feature heavily i...   1 hour   \n",
       "3   Music means a lot to me and is a passion of mine  2 hours   \n",
       "4   Music means a lot to me and is a passion of mine  3 hours   \n",
       "\n",
       "           LIST_BACK    Q1    Q2  ...    Q10   Q11   Q12   Q13   Q14   Q15  \\\n",
       "0                NaN  49.0  50.0  ...   50.0  50.0  71.0  52.0  71.0   9.0   \n",
       "1             1 hour  55.0  55.0  ...   12.0  65.0  65.0  80.0  79.0  51.0   \n",
       "2  Less than an hour  11.0  50.0  ...   50.0  94.0  51.0  74.0  66.0  27.0   \n",
       "3            3 hours  81.0  80.0  ...   76.0  74.0  64.0  73.0  85.0  61.0   \n",
       "4            6 hours  76.0  79.0  ...   56.0  13.0  82.0  79.0  68.0  71.0   \n",
       "\n",
       "    Q16   Q17   Q18   Q19  \n",
       "0   7.0  72.0  49.0  26.0  \n",
       "1  31.0  68.0  54.0  33.0  \n",
       "2  46.0  73.0   8.0  31.0  \n",
       "3  77.0  76.0  78.0  88.0  \n",
       "4   NaN  86.0  80.0  32.0  \n",
       "\n",
       "[5 rows x 27 columns]"
      ]
     },
     "execution_count": 6,
     "metadata": {},
     "output_type": "execute_result"
    }
   ],
   "source": [
    "users.head()"
   ]
  },
  {
   "cell_type": "markdown",
   "metadata": {},
   "source": [
    "words.csv file contains data that shows how people describe the EMI artists whose music they have just heard.\n",
    "\n",
    "* __Artist__: An anonymised identifier for the EMI artist.\n",
    "* __User__: An anonymised identifier for the market research respondent, who will have just heard one or more samples from the artist.\n",
    "* __HEARD_OF__: An entry which answers the question: Have you heard of and/or heard music by this artist?\n",
    "* __OWN_ARTIST_MUSIC__: which answers the question: Do you have this artist in your music collection?\n",
    "* __LIKE_ARTIST__: A numerical entry which answers the question: To what extent do you like or dislike listening this artist?\n",
    "\n",
    "<p>Finally, a list of words. There are 82 different words, ranging from “Soulful” to “Cheesy” and “Aggressive.” After listening to tracks from a particular artist, each respondent will have selected the words they think best describe the artist from a given set. The values in each column are therefore 1, if the respondent thinks that word describes the artist, 0 if the respondent does not think the word describes the artist, and empty if the word was not part of the current interview set.</p>"
   ]
  },
  {
   "cell_type": "code",
   "execution_count": 7,
   "metadata": {},
   "outputs": [
    {
     "data": {
      "text/html": [
       "<div>\n",
       "<style>\n",
       "    .dataframe thead tr:only-child th {\n",
       "        text-align: right;\n",
       "    }\n",
       "\n",
       "    .dataframe thead th {\n",
       "        text-align: left;\n",
       "    }\n",
       "\n",
       "    .dataframe tbody tr th {\n",
       "        vertical-align: top;\n",
       "    }\n",
       "</style>\n",
       "<table border=\"1\" class=\"dataframe\">\n",
       "  <thead>\n",
       "    <tr style=\"text-align: right;\">\n",
       "      <th></th>\n",
       "      <th>Artist</th>\n",
       "      <th>User</th>\n",
       "      <th>HEARD_OF</th>\n",
       "      <th>OWN_ARTIST_MUSIC</th>\n",
       "      <th>LIKE_ARTIST</th>\n",
       "      <th>Uninspired</th>\n",
       "      <th>Sophisticated</th>\n",
       "      <th>Aggressive</th>\n",
       "      <th>Edgy</th>\n",
       "      <th>Sociable</th>\n",
       "      <th>...</th>\n",
       "      <th>Unoriginal</th>\n",
       "      <th>Dated</th>\n",
       "      <th>Iconic</th>\n",
       "      <th>Unapproachable</th>\n",
       "      <th>Classic</th>\n",
       "      <th>Playful</th>\n",
       "      <th>Arrogant</th>\n",
       "      <th>Warm</th>\n",
       "      <th>Soulful</th>\n",
       "      <th>Unnamed: 87</th>\n",
       "    </tr>\n",
       "  </thead>\n",
       "  <tbody>\n",
       "    <tr>\n",
       "      <th>0</th>\n",
       "      <td>47</td>\n",
       "      <td>45969</td>\n",
       "      <td>Heard of</td>\n",
       "      <td>NaN</td>\n",
       "      <td>NaN</td>\n",
       "      <td>NaN</td>\n",
       "      <td>0.0</td>\n",
       "      <td>NaN</td>\n",
       "      <td>0</td>\n",
       "      <td>0.0</td>\n",
       "      <td>...</td>\n",
       "      <td>NaN</td>\n",
       "      <td>0.0</td>\n",
       "      <td>NaN</td>\n",
       "      <td>NaN</td>\n",
       "      <td>0.0</td>\n",
       "      <td>NaN</td>\n",
       "      <td>NaN</td>\n",
       "      <td>0</td>\n",
       "      <td>0.0</td>\n",
       "      <td>NaN</td>\n",
       "    </tr>\n",
       "    <tr>\n",
       "      <th>1</th>\n",
       "      <td>35</td>\n",
       "      <td>29118</td>\n",
       "      <td>Never heard of</td>\n",
       "      <td>NaN</td>\n",
       "      <td>NaN</td>\n",
       "      <td>0.0</td>\n",
       "      <td>NaN</td>\n",
       "      <td>0.0</td>\n",
       "      <td>0</td>\n",
       "      <td>NaN</td>\n",
       "      <td>...</td>\n",
       "      <td>0.0</td>\n",
       "      <td>0.0</td>\n",
       "      <td>NaN</td>\n",
       "      <td>0.0</td>\n",
       "      <td>0.0</td>\n",
       "      <td>0.0</td>\n",
       "      <td>0.0</td>\n",
       "      <td>0</td>\n",
       "      <td>NaN</td>\n",
       "      <td>NaN</td>\n",
       "    </tr>\n",
       "    <tr>\n",
       "      <th>2</th>\n",
       "      <td>14</td>\n",
       "      <td>31544</td>\n",
       "      <td>Heard of</td>\n",
       "      <td>NaN</td>\n",
       "      <td>NaN</td>\n",
       "      <td>0.0</td>\n",
       "      <td>NaN</td>\n",
       "      <td>0.0</td>\n",
       "      <td>0</td>\n",
       "      <td>NaN</td>\n",
       "      <td>...</td>\n",
       "      <td>0.0</td>\n",
       "      <td>0.0</td>\n",
       "      <td>NaN</td>\n",
       "      <td>0.0</td>\n",
       "      <td>0.0</td>\n",
       "      <td>0.0</td>\n",
       "      <td>0.0</td>\n",
       "      <td>0</td>\n",
       "      <td>NaN</td>\n",
       "      <td>NaN</td>\n",
       "    </tr>\n",
       "    <tr>\n",
       "      <th>3</th>\n",
       "      <td>23</td>\n",
       "      <td>18085</td>\n",
       "      <td>Never heard of</td>\n",
       "      <td>NaN</td>\n",
       "      <td>NaN</td>\n",
       "      <td>NaN</td>\n",
       "      <td>NaN</td>\n",
       "      <td>0.0</td>\n",
       "      <td>0</td>\n",
       "      <td>NaN</td>\n",
       "      <td>...</td>\n",
       "      <td>0.0</td>\n",
       "      <td>0.0</td>\n",
       "      <td>NaN</td>\n",
       "      <td>0.0</td>\n",
       "      <td>0.0</td>\n",
       "      <td>0.0</td>\n",
       "      <td>0.0</td>\n",
       "      <td>0</td>\n",
       "      <td>NaN</td>\n",
       "      <td>NaN</td>\n",
       "    </tr>\n",
       "    <tr>\n",
       "      <th>4</th>\n",
       "      <td>23</td>\n",
       "      <td>18084</td>\n",
       "      <td>Never heard of</td>\n",
       "      <td>NaN</td>\n",
       "      <td>NaN</td>\n",
       "      <td>NaN</td>\n",
       "      <td>NaN</td>\n",
       "      <td>0.0</td>\n",
       "      <td>0</td>\n",
       "      <td>NaN</td>\n",
       "      <td>...</td>\n",
       "      <td>0.0</td>\n",
       "      <td>0.0</td>\n",
       "      <td>NaN</td>\n",
       "      <td>0.0</td>\n",
       "      <td>0.0</td>\n",
       "      <td>0.0</td>\n",
       "      <td>0.0</td>\n",
       "      <td>0</td>\n",
       "      <td>NaN</td>\n",
       "      <td>NaN</td>\n",
       "    </tr>\n",
       "  </tbody>\n",
       "</table>\n",
       "<p>5 rows × 88 columns</p>\n",
       "</div>"
      ],
      "text/plain": [
       "   Artist   User        HEARD_OF OWN_ARTIST_MUSIC  LIKE_ARTIST  Uninspired  \\\n",
       "0      47  45969        Heard of              NaN          NaN         NaN   \n",
       "1      35  29118  Never heard of              NaN          NaN         0.0   \n",
       "2      14  31544        Heard of              NaN          NaN         0.0   \n",
       "3      23  18085  Never heard of              NaN          NaN         NaN   \n",
       "4      23  18084  Never heard of              NaN          NaN         NaN   \n",
       "\n",
       "   Sophisticated  Aggressive  Edgy  Sociable     ...       Unoriginal  Dated  \\\n",
       "0            0.0         NaN     0       0.0     ...              NaN    0.0   \n",
       "1            NaN         0.0     0       NaN     ...              0.0    0.0   \n",
       "2            NaN         0.0     0       NaN     ...              0.0    0.0   \n",
       "3            NaN         0.0     0       NaN     ...              0.0    0.0   \n",
       "4            NaN         0.0     0       NaN     ...              0.0    0.0   \n",
       "\n",
       "   Iconic  Unapproachable  Classic  Playful  Arrogant  Warm  Soulful  \\\n",
       "0     NaN             NaN      0.0      NaN       NaN     0      0.0   \n",
       "1     NaN             0.0      0.0      0.0       0.0     0      NaN   \n",
       "2     NaN             0.0      0.0      0.0       0.0     0      NaN   \n",
       "3     NaN             0.0      0.0      0.0       0.0     0      NaN   \n",
       "4     NaN             0.0      0.0      0.0       0.0     0      NaN   \n",
       "\n",
       "   Unnamed: 87  \n",
       "0          NaN  \n",
       "1          NaN  \n",
       "2          NaN  \n",
       "3          NaN  \n",
       "4          NaN  \n",
       "\n",
       "[5 rows x 88 columns]"
      ]
     },
     "execution_count": 7,
     "metadata": {},
     "output_type": "execute_result"
    }
   ],
   "source": [
    "words.head()"
   ]
  },
  {
   "cell_type": "markdown",
   "metadata": {},
   "source": [
    "### Distribution of Ratings"
   ]
  },
  {
   "cell_type": "code",
   "execution_count": 8,
   "metadata": {},
   "outputs": [
    {
     "data": {
      "image/png": "[encoded data removed]",
      "text/plain": [
       "<matplotlib.figure.Figure at 0x7f7cdbb64c88>"
      ]
     },
     "metadata": {},
     "output_type": "display_data"
    }
   ],
   "source": [
    "sns.kdeplot(train.Rating);"
   ]
  },
  {
   "cell_type": "markdown",
   "metadata": {},
   "source": [
    "## Mean Ratings By Artist"
   ]
  },
  {
   "cell_type": "code",
   "execution_count": 9,
   "metadata": {},
   "outputs": [
    {
     "data": {
      "image/png": "[encoded data removed]",
      "text/plain": [
       "<matplotlib.figure.Figure at 0x7f7cdbb72f98>"
      ]
     },
     "metadata": {},
     "output_type": "display_data"
    }
   ],
   "source": [
    "train.groupby('Artist')['Rating'].mean().plot();"
   ]
  },
  {
   "cell_type": "markdown",
   "metadata": {},
   "source": [
    "## Mean Rating By Track"
   ]
  },
  {
   "cell_type": "code",
   "execution_count": 10,
   "metadata": {},
   "outputs": [
    {
     "data": {
      "image/png": "[encoded data removed]",
      "text/plain": [
       "<matplotlib.figure.Figure at 0x7f7cdba0a320>"
      ]
     },
     "metadata": {},
     "output_type": "display_data"
    }
   ],
   "source": [
    "train.groupby('Track')['Rating'].mean().plot();"
   ]
  },
  {
   "cell_type": "markdown",
   "metadata": {},
   "source": [
    "## Mean Ratings By Time"
   ]
  },
  {
   "cell_type": "code",
   "execution_count": 11,
   "metadata": {},
   "outputs": [
    {
     "data": {
      "image/png": "[encoded data removed]",
      "text/plain": [
       "<matplotlib.figure.Figure at 0x7f7cdb94e5f8>"
      ]
     },
     "metadata": {},
     "output_type": "display_data"
    }
   ],
   "source": [
    "train.groupby('Time')['Rating'].mean().plot();"
   ]
  },
  {
   "cell_type": "code",
   "execution_count": null,
   "metadata": {
    "collapsed": true
   },
   "outputs": [],
   "source": []
  },
  {
   "cell_type": "code",
   "execution_count": null,
   "metadata": {
    "collapsed": true
   },
   "outputs": [],
   "source": []
  },
  {
   "cell_type": "code",
   "execution_count": null,
   "metadata": {
    "collapsed": true
   },
   "outputs": [],
   "source": []
  },
  {
   "cell_type": "code",
   "execution_count": null,
   "metadata": {
    "collapsed": true
   },
   "outputs": [],
   "source": []
  },
  {
   "cell_type": "code",
   "execution_count": null,
   "metadata": {
    "collapsed": true
   },
   "outputs": [],
   "source": []
  },
  {
   "cell_type": "code",
   "execution_count": null,
   "metadata": {
    "collapsed": true
   },
   "outputs": [],
   "source": []
  },
  {
   "cell_type": "code",
   "execution_count": null,
   "metadata": {
    "collapsed": true
   },
   "outputs": [],
   "source": []
  },
  {
   "cell_type": "code",
   "execution_count": null,
   "metadata": {
    "collapsed": true
   },
   "outputs": [],
   "source": []
  },
  {
   "cell_type": "code",
   "execution_count": null,
   "metadata": {
    "collapsed": true
   },
   "outputs": [],
   "source": []
  },
  {
   "cell_type": "code",
   "execution_count": null,
   "metadata": {
    "collapsed": true
   },
   "outputs": [],
   "source": []
  }
 ],
 "metadata": {
  "anaconda-cloud": {},
  "kernelspec": {
   "display_name": "Python 3",
   "language": "python",
   "name": "python3"
  },
  "language_info": {
   "codemirror_mode": {
    "name": "ipython",
    "version": 3
   },
   "file_extension": ".py",
   "mimetype": "text/x-python",
   "name": "python",
   "nbconvert_exporter": "python",
   "pygments_lexer": "ipython3",
   "version": "3.6.1"
  }
 },
 "nbformat": 4,
 "nbformat_minor": 1
}
